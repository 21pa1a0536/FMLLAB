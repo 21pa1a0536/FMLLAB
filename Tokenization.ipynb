{
  "nbformat": 4,
  "nbformat_minor": 0,
  "metadata": {
    "colab": {
      "provenance": [],
      "authorship_tag": "ABX9TyMvM9quX0bCm//kNrZi7Xt8",
      "include_colab_link": true
    },
    "kernelspec": {
      "name": "python3",
      "display_name": "Python 3"
    },
    "language_info": {
      "name": "python"
    }
  },
  "cells": [
    {
      "cell_type": "markdown",
      "metadata": {
        "id": "view-in-github",
        "colab_type": "text"
      },
      "source": [
        "<a href=\"https://colab.research.google.com/github/21pa1a0536/FMLLAB/blob/main/Tokenization.ipynb\" target=\"_parent\"><img src=\"https://colab.research.google.com/assets/colab-badge.svg\" alt=\"Open In Colab\"/></a>"
      ]
    },
    {
      "cell_type": "code",
      "execution_count": 24,
      "metadata": {
        "colab": {
          "base_uri": "https://localhost:8080/"
        },
        "id": "1QGRbVGpRuId",
        "outputId": "dbdf4540-3fc6-4f99-a4d1-be03c516d6ef"
      },
      "outputs": [
        {
          "output_type": "stream",
          "name": "stdout",
          "text": [
            "['Machine', 'learning', 'programs', 'can', 'perform', 'tasks', 'without', 'being', 'explicitly', 'programmed', 'to', 'do', 'so.', 'It', 'involves', 'computers', 'learning', 'from', 'data', 'provided', 'so', 'that', 'they', 'carry', 'out', 'certain', 'tasks.', 'For', 'simple', 'tasks', 'assigned', 'to', 'computers,', 'it', 'is', 'possible', 'to', 'program', 'algorithms', 'telling', 'the', 'machine', 'how', 'to', 'execute', 'all', 'steps', 'required', 'to', 'solve', 'the', 'problem', 'at', 'hand;', 'on', 'the', \"computer's\", 'part,', 'no', 'learning', 'is', 'needed.', 'For', 'more', 'advanced', 'tasks,', 'it', 'can', 'be', 'challenging', 'for', 'a', 'human', 'to', 'manually', 'create', 'the', 'needed', 'algorithms.', 'In', 'practice,', 'it', 'can', 'turn', 'out', 'to', 'be', 'more', 'effective', 'to', 'help', 'the', 'machine', 'develop', 'its', 'own', 'algorithm,', 'rather', 'than', 'having', 'human', 'programmers', 'specify', 'every', 'needed', 'step.']\n",
            "Number of tokens =   106\n"
          ]
        }
      ],
      "source": [
        "#word Tokenization\n",
        "text = '''Machine learning programs can perform tasks without being explicitly programmed to do so. It involves computers learning from data provided so that they carry out certain tasks. For simple tasks assigned to computers, it is possible to program algorithms telling the machine how to execute all steps required to solve the problem at hand; on the computer's part, no learning is needed. For more advanced tasks, it can be challenging for a human to manually create the needed algorithms. In practice, it can turn out to be more effective to help the machine develop its own algorithm, rather than having human programmers specify every needed step.'''\n",
        "tokens = text.split()\n",
        "\n",
        "print(tokens)\n",
        "print(\"Number of tokens =  \", len(tokens))"
      ]
    },
    {
      "cell_type": "code",
      "source": [
        "text = '''Machine learning programs can perform tasks without being explicitly programmed to do so. It involves computers learning from data provided so that they carry out certain tasks. For simple tasks assigned to computers, it is possible to program algorithms telling the machine how to execute all steps required to solve the problem at hand; on the computer's part, no learning is needed. For more advanced tasks, it can be challenging for a human to manually create the needed algorithms. In practice, it can turn out to be more effective to help the machine develop its own algorithm, rather than having human programmers specify every needed step.'''\n",
        "\n",
        "sentences = text.split('.')\n",
        "print(sentences)\n",
        "print(\"Number of sentences :\", len(sentences))"
      ],
      "metadata": {
        "colab": {
          "base_uri": "https://localhost:8080/"
        },
        "id": "2QNAUG-cfMdn",
        "outputId": "74a1c39b-b07a-4553-fc3c-69e051728e78"
      },
      "execution_count": 25,
      "outputs": [
        {
          "output_type": "stream",
          "name": "stdout",
          "text": [
            "['Machine learning programs can perform tasks without being explicitly programmed to do so', ' It involves computers learning from data provided so that they carry out certain tasks', \" For simple tasks assigned to computers, it is possible to program algorithms telling the machine how to execute all steps required to solve the problem at hand; on the computer's part, no learning is needed\", ' For more advanced tasks, it can be challenging for a human to manually create the needed algorithms', ' In practice, it can turn out to be more effective to help the machine develop its own algorithm, rather than having human programmers specify every needed step', '']\n",
            "Number of sentences : 6\n"
          ]
        }
      ]
    },
    {
      "cell_type": "code",
      "source": [
        "import re"
      ],
      "metadata": {
        "id": "MoMViah1jBzh"
      },
      "execution_count": 26,
      "outputs": []
    },
    {
      "cell_type": "code",
      "source": [
        "tokens = re.findall(\"[\\w']+\", text)  \n",
        "print(tokens)\n",
        "print(\"No.of tokens : \", len(tokens))\n",
        "     "
      ],
      "metadata": {
        "colab": {
          "base_uri": "https://localhost:8080/"
        },
        "id": "GD5Hl_gMq2Q0",
        "outputId": "480e3879-4775-415c-967b-6b43b666e3de"
      },
      "execution_count": 27,
      "outputs": [
        {
          "output_type": "stream",
          "name": "stdout",
          "text": [
            "['Machine', 'learning', 'programs', 'can', 'perform', 'tasks', 'without', 'being', 'explicitly', 'programmed', 'to', 'do', 'so', 'It', 'involves', 'computers', 'learning', 'from', 'data', 'provided', 'so', 'that', 'they', 'carry', 'out', 'certain', 'tasks', 'For', 'simple', 'tasks', 'assigned', 'to', 'computers', 'it', 'is', 'possible', 'to', 'program', 'algorithms', 'telling', 'the', 'machine', 'how', 'to', 'execute', 'all', 'steps', 'required', 'to', 'solve', 'the', 'problem', 'at', 'hand', 'on', 'the', \"computer's\", 'part', 'no', 'learning', 'is', 'needed', 'For', 'more', 'advanced', 'tasks', 'it', 'can', 'be', 'challenging', 'for', 'a', 'human', 'to', 'manually', 'create', 'the', 'needed', 'algorithms', 'In', 'practice', 'it', 'can', 'turn', 'out', 'to', 'be', 'more', 'effective', 'to', 'help', 'the', 'machine', 'develop', 'its', 'own', 'algorithm', 'rather', 'than', 'having', 'human', 'programmers', 'specify', 'every', 'needed', 'step']\n",
            "No.of tokens :  106\n"
          ]
        }
      ]
    },
    {
      "cell_type": "code",
      "source": [
        "#sentence tokenization\n",
        "sentences = re.compile('[.?!] ').split(text)\n",
        "print(sentences)\n",
        "print(\"No.of sentences : \", len(sentences))\n",
        "     "
      ],
      "metadata": {
        "colab": {
          "base_uri": "https://localhost:8080/"
        },
        "id": "sDwH_rHerR14",
        "outputId": "87a7426c-a174-484a-d8fe-03fda223549d"
      },
      "execution_count": 28,
      "outputs": [
        {
          "output_type": "stream",
          "name": "stdout",
          "text": [
            "['Machine learning programs can perform tasks without being explicitly programmed to do so', 'It involves computers learning from data provided so that they carry out certain tasks', \"For simple tasks assigned to computers, it is possible to program algorithms telling the machine how to execute all steps required to solve the problem at hand; on the computer's part, no learning is needed\", 'For more advanced tasks, it can be challenging for a human to manually create the needed algorithms', 'In practice, it can turn out to be more effective to help the machine develop its own algorithm, rather than having human programmers specify every needed step.']\n",
            "No.of sentences :  5\n"
          ]
        }
      ]
    },
    {
      "cell_type": "code",
      "source": [
        "import nltk\n",
        "nltk.download('punkt')"
      ],
      "metadata": {
        "colab": {
          "base_uri": "https://localhost:8080/"
        },
        "id": "QHy2iEKWrg3_",
        "outputId": "d30afc9f-0cce-446b-d501-ed0b56ada13b"
      },
      "execution_count": 29,
      "outputs": [
        {
          "output_type": "stream",
          "name": "stderr",
          "text": [
            "[nltk_data] Downloading package punkt to /root/nltk_data...\n",
            "[nltk_data]   Package punkt is already up-to-date!\n"
          ]
        },
        {
          "output_type": "execute_result",
          "data": {
            "text/plain": [
              "True"
            ]
          },
          "metadata": {},
          "execution_count": 29
        }
      ]
    },
    {
      "cell_type": "code",
      "source": [
        "from nltk.tokenize import word_tokenize \n",
        "tokens = word_tokenize(text)\n",
        "print(tokens)\n",
        "print(\"No.of tokens : \", len(tokens))"
      ],
      "metadata": {
        "colab": {
          "base_uri": "https://localhost:8080/"
        },
        "id": "9K1g1gTJrjeH",
        "outputId": "a6021f17-dcd1-441f-a35f-085934cbfa57"
      },
      "execution_count": 30,
      "outputs": [
        {
          "output_type": "stream",
          "name": "stdout",
          "text": [
            "['Machine', 'learning', 'programs', 'can', 'perform', 'tasks', 'without', 'being', 'explicitly', 'programmed', 'to', 'do', 'so', '.', 'It', 'involves', 'computers', 'learning', 'from', 'data', 'provided', 'so', 'that', 'they', 'carry', 'out', 'certain', 'tasks', '.', 'For', 'simple', 'tasks', 'assigned', 'to', 'computers', ',', 'it', 'is', 'possible', 'to', 'program', 'algorithms', 'telling', 'the', 'machine', 'how', 'to', 'execute', 'all', 'steps', 'required', 'to', 'solve', 'the', 'problem', 'at', 'hand', ';', 'on', 'the', 'computer', \"'s\", 'part', ',', 'no', 'learning', 'is', 'needed', '.', 'For', 'more', 'advanced', 'tasks', ',', 'it', 'can', 'be', 'challenging', 'for', 'a', 'human', 'to', 'manually', 'create', 'the', 'needed', 'algorithms', '.', 'In', 'practice', ',', 'it', 'can', 'turn', 'out', 'to', 'be', 'more', 'effective', 'to', 'help', 'the', 'machine', 'develop', 'its', 'own', 'algorithm', ',', 'rather', 'than', 'having', 'human', 'programmers', 'specify', 'every', 'needed', 'step', '.']\n",
            "No.of tokens :  118\n"
          ]
        }
      ]
    },
    {
      "cell_type": "code",
      "source": [
        "from nltk.tokenize import sent_tokenize\n",
        "sentences = sent_tokenize(text)\n",
        "print(sentences)\n",
        "print(\"No.of sentences : \", len(sentences))\n",
        "     "
      ],
      "metadata": {
        "colab": {
          "base_uri": "https://localhost:8080/"
        },
        "id": "GaXyuXTjrsum",
        "outputId": "829d8102-d99f-49d8-86d0-97dd50757848"
      },
      "execution_count": 31,
      "outputs": [
        {
          "output_type": "stream",
          "name": "stdout",
          "text": [
            "['Machine learning programs can perform tasks without being explicitly programmed to do so.', 'It involves computers learning from data provided so that they carry out certain tasks.', \"For simple tasks assigned to computers, it is possible to program algorithms telling the machine how to execute all steps required to solve the problem at hand; on the computer's part, no learning is needed.\", 'For more advanced tasks, it can be challenging for a human to manually create the needed algorithms.', 'In practice, it can turn out to be more effective to help the machine develop its own algorithm, rather than having human programmers specify every needed step.']\n",
            "No.of sentences :  5\n"
          ]
        }
      ]
    }
  ]
}